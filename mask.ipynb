{
 "cells": [
  {
   "cell_type": "code",
   "execution_count": 1,
   "metadata": {},
   "outputs": [
    {
     "name": "stderr",
     "output_type": "stream",
     "text": [
      "/home/eleyng/anaconda2/envs/DLpy3/lib/python3.6/site-packages/skimage/viewer/utils/core.py:10: UserWarning: Recommended matplotlib backend is `Agg` for full skimage.viewer functionality.\n",
      "  warn(\"Recommended matplotlib backend is `Agg` for full \"\n",
      "/home/eleyng/anaconda2/envs/DLpy3/lib/python3.6/site-packages/h5py/__init__.py:34: FutureWarning: Conversion of the second argument of issubdtype from `float` to `np.floating` is deprecated. In future, it will be treated as `np.float64 == np.dtype(float).type`.\n",
      "  from ._conv import register_converters as _register_converters\n",
      "Using TensorFlow backend.\n"
     ]
    }
   ],
   "source": [
    "import os\n",
    "import sys\n",
    "import json\n",
    "import datetime\n",
    "import numpy as np\n",
    "import skimage.io\n",
    "from skimage import data\n",
    "from skimage.viewer import ImageViewer\n",
    "%matplotlib inline\n",
    "from imgaug import augmenters as iaa\n",
    "\n",
    "# Root directory of the project\n",
    "ROOT_DIR = os.path.abspath(\"../../\")   ##### Modify it!\n",
    "\n",
    "# Import Mask RCNN\n",
    "sys.path.append(ROOT_DIR)  # To find local version of the library\n",
    "from mrcnn.config import Config\n",
    "from mrcnn import utils\n",
    "from mrcnn import model as modellib\n",
    "from mrcnn import visualize\n",
    "\n",
    "from PIL import Image\n",
    "\n",
    "def load_mask():\n",
    "        \n",
    "        #image_info = self.image_info[image_id]\n",
    "        #print(\"IMAGE INFO\", image_info)\n",
    "        # if image_info[\"source\"] != \"coco\":\n",
    "        #     return super(CocoDataset, self).load_mask(image_id)\n",
    "\n",
    "        # Build mask of shape [height, width, instance_count] and list\n",
    "        # of class IDs that correspond to each channel of the mask.\n",
    "        #info = self.image_info[image_id]['id']\n",
    "        #info = info[:-4] + '_instanceIds.png'\n",
    "        # Get mask directory from image path\n",
    "        # mask_dir = os.path.join(os.path.dirname(os.path.dirname(info['path'])), \"masks\")\n",
    "        #mask_dir = os.path.join(ROOT_DIR, \"train_label_10\")\n",
    "        # Read mask files from .png image\n",
    "        \n",
    "        class_ids = []\n",
    "        mask = []\n",
    "        #print('Image Id', image_id)\n",
    "        \n",
    "        idlist = [0,33,34,35,36,38,39,40]\n",
    "        \n",
    "        \n",
    "        # Read image as array\n",
    "        print(\"-\"*50)\n",
    "        \n",
    "        m = skimage.io.imread(\"/home/eleyng/Mask_RCNN/train_label_10/170908_061502408_Camera_5_instanceIds.png\")\n",
    "        \n",
    "        \n",
    "        \n",
    "        class_id = m//1000\n",
    "        \n",
    "        class_obj = np.zeros(m.shape)\n",
    "        \n",
    "        class_bg_sub = np.zeros(m.shape)\n",
    "        for id in idlist:\n",
    "            \n",
    "            \n",
    "            if id == 0:\n",
    "                continue\n",
    "            else:\n",
    "                indices_obj = np.where(class_id==id)\n",
    "                if(len(indices_obj)>0):\n",
    "\n",
    "                    class_obj[indices_obj] = 1\n",
    "                    mask.append(class_obj)\n",
    "                    class_ids.append(id)\n",
    "                    class_bg_sub = id*class_obj\n",
    "                    \n",
    "                    viewer = ImageViewer(class_obj)\n",
    "                    viewer.show()\n",
    "                    \n",
    "            #visualize.display_images([class_obj])\n",
    "            \n",
    "            \n",
    "        \n",
    "         \n",
    "        class_bg = np.asarray(class_id - class_bg_sub).astype(np.bool)\n",
    "        if np.count_nonzero(class_bg) > 0:\n",
    "            mask.append(class_bg)\n",
    "            class_ids.append(0)\n",
    "        \n",
    "        \n",
    "        \n",
    "        \n",
    "                    \n",
    "                    \n",
    "        \n",
    "        '''\n",
    "        for f in next(os.walk(mask_dir))[2]:\n",
    "            if f.endswith(\".png\"):\n",
    "                \n",
    "                \n",
    "                m = skimage.io.imread(os.path.join(mask_dir, f)).astype(np.bool)\n",
    "                mask.append(m)\n",
    "                tlabel = np.asarray(Image.open(os.path.join(mask_dir, f)))\n",
    "                class_id = tlabel//1000\n",
    "                class_ids.append(class_id)\n",
    "                print(\"CLASSID\", class_id)\n",
    "        '''\n",
    "                \n",
    "        mask = np.stack(mask, axis=-1)\n",
    "        class_ids = np.array(class_ids, dtype=np.int32)\n",
    "        print(\"CLASS IDs\", class_ids)\n",
    "        assert(False)\n",
    "        return mask, class_ids\n",
    "    \n",
    "\n"
   ]
  },
  {
   "cell_type": "code",
   "execution_count": 2,
   "metadata": {},
   "outputs": [
    {
     "name": "stdout",
     "output_type": "stream",
     "text": [
      "--------------------------------------------------\n"
     ]
    },
    {
     "ename": "AssertionError",
     "evalue": "",
     "output_type": "error",
     "traceback": [
      "\u001b[0;31m---------------------------------------------------------------------------\u001b[0m",
      "\u001b[0;31mAssertionError\u001b[0m                            Traceback (most recent call last)",
      "\u001b[0;32m<ipython-input-2-9a4ac614e0e0>\u001b[0m in \u001b[0;36m<module>\u001b[0;34m()\u001b[0m\n\u001b[0;32m----> 1\u001b[0;31m \u001b[0mload_mask\u001b[0m\u001b[0;34m(\u001b[0m\u001b[0;34m)\u001b[0m\u001b[0;34m\u001b[0m\u001b[0m\n\u001b[0m",
      "\u001b[0;32m<ipython-input-1-2e6261751925>\u001b[0m in \u001b[0;36mload_mask\u001b[0;34m()\u001b[0m\n\u001b[1;32m     77\u001b[0m \u001b[0;34m\u001b[0m\u001b[0m\n\u001b[1;32m     78\u001b[0m \u001b[0;34m\u001b[0m\u001b[0m\n\u001b[0;32m---> 79\u001b[0;31m         \u001b[0;32massert\u001b[0m\u001b[0;34m(\u001b[0m\u001b[0;32mFalse\u001b[0m\u001b[0;34m)\u001b[0m\u001b[0;34m\u001b[0m\u001b[0m\n\u001b[0m\u001b[1;32m     80\u001b[0m \u001b[0;34m\u001b[0m\u001b[0m\n\u001b[1;32m     81\u001b[0m         \u001b[0mclass_bg\u001b[0m \u001b[0;34m=\u001b[0m \u001b[0mnp\u001b[0m\u001b[0;34m.\u001b[0m\u001b[0masarray\u001b[0m\u001b[0;34m(\u001b[0m\u001b[0mclass_id\u001b[0m \u001b[0;34m-\u001b[0m \u001b[0mclass_bg_sub\u001b[0m\u001b[0;34m)\u001b[0m\u001b[0;34m.\u001b[0m\u001b[0mastype\u001b[0m\u001b[0;34m(\u001b[0m\u001b[0mnp\u001b[0m\u001b[0;34m.\u001b[0m\u001b[0mbool\u001b[0m\u001b[0;34m)\u001b[0m\u001b[0;34m\u001b[0m\u001b[0m\n",
      "\u001b[0;31mAssertionError\u001b[0m: "
     ]
    }
   ],
   "source": [
    "load_mask()"
   ]
  },
  {
   "cell_type": "code",
   "execution_count": null,
   "metadata": {
    "collapsed": true
   },
   "outputs": [],
   "source": []
  }
 ],
 "metadata": {
  "kernelspec": {
   "display_name": "Python [conda env:DLpy3]",
   "language": "python",
   "name": "conda-env-DLpy3-py"
  },
  "language_info": {
   "codemirror_mode": {
    "name": "ipython",
    "version": 3
   },
   "file_extension": ".py",
   "mimetype": "text/x-python",
   "name": "python",
   "nbconvert_exporter": "python",
   "pygments_lexer": "ipython3",
   "version": "3.6.1"
  }
 },
 "nbformat": 4,
 "nbformat_minor": 2
}
